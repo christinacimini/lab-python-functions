{
 "cells": [
  {
   "cell_type": "code",
   "execution_count": 8,
   "id": "956a1c4a",
   "metadata": {},
   "outputs": [],
   "source": [
    "products = ['t-shirt', 'mug', 'hat', 'book', 'keychain']\n",
    "inventory = {}\n",
    "\n",
    "customer_orders = set()"
   ]
  },
  {
   "cell_type": "code",
   "execution_count": 12,
   "id": "b6e57b19",
   "metadata": {},
   "outputs": [],
   "source": [
    "def initialize_inventory(products):\n",
    "    for item in products:\n",
    "        quantity = int(input(f\"What is the quantity of {item}?: \"))\n",
    "        inventory[item] = quantity\n",
    "\n",
    "initialize_inventory(products)"
   ]
  },
  {
   "cell_type": "code",
   "execution_count": 13,
   "id": "f9200589",
   "metadata": {},
   "outputs": [],
   "source": [
    "def get_customer_orders():\n",
    "    chosen_item = input(\"Choose a product to add: \")\n",
    "    customer_orders.add(chosen_item)\n",
    "    add_more = input(\"Do you want to add another product? (y/n) \")\n",
    "    while add_more == 'y':\n",
    "       chosen_item = input(\"Choose a product to add: \")\n",
    "       customer_orders.add(chosen_item)\n",
    "       add_more = input(\"Do you want to add another product? (y/n) \")\n",
    "       if add_more == 'n':\n",
    "          break\n",
    "       \n",
    "get_customer_orders()"
   ]
  },
  {
   "cell_type": "code",
   "execution_count": 15,
   "id": "846aabe2",
   "metadata": {},
   "outputs": [
    {
     "name": "stdout",
     "output_type": "stream",
     "text": [
      "t-shirt: 4\n",
      "mug: 4\n",
      "hat: 4\n",
      "book: 2\n",
      "keychain: 2\n"
     ]
    }
   ],
   "source": [
    "def update_inventory(customer_orders, inventory):\n",
    "    for item, quantity in inventory.items():\n",
    "        if item in customer_orders:\n",
    "            new_quantity = quantity - 1\n",
    "        print(f'{item}: {new_quantity}')\n",
    "\n",
    "update_inventory(customer_orders, inventory)"
   ]
  },
  {
   "cell_type": "code",
   "execution_count": 31,
   "id": "fbc9849d",
   "metadata": {},
   "outputs": [
    {
     "data": {
      "text/plain": [
       "(13, 0.6190476190476191)"
      ]
     },
     "execution_count": 31,
     "metadata": {},
     "output_type": "execute_result"
    }
   ],
   "source": [
    "def calculate_order_statistics(customer_orders, products):\n",
    "    order_status = (sum(inventory[item] for item in customer_orders), sum(inventory[item] for item in customer_orders) / sum(inventory.values()))\n",
    "    return(order_status)\n",
    "\n",
    "calculate_order_statistics(customer_orders, products)"
   ]
  },
  {
   "cell_type": "code",
   "execution_count": 33,
   "id": "141801f4",
   "metadata": {},
   "outputs": [
    {
     "name": "stdout",
     "output_type": "stream",
     "text": [
      "Order Statistics:\n",
      "Total Products Ordered: 13\n",
      "Percentage of Products Ordered: 61.9%\n"
     ]
    }
   ],
   "source": [
    "order_statistics = {}\n",
    "\n",
    "def print_order_statistics(order_statistics):\n",
    "    order_status = (sum(inventory[item] for item in customer_orders), sum(inventory[item] for item in customer_orders) / sum(inventory.values()))\n",
    "    print('Order Statistics:\\n'\n",
    "      f'Total Products Ordered: {order_status[0]}\\n'\n",
    "      f'Percentage of Products Ordered: {round(order_status[1] * 100, 2)}%')\n",
    "\n",
    "print_order_statistics(order_statistics)"
   ]
  },
  {
   "cell_type": "code",
   "execution_count": 35,
   "id": "086639af",
   "metadata": {},
   "outputs": [
    {
     "name": "stdout",
     "output_type": "stream",
     "text": [
      "keychain: 2\n"
     ]
    }
   ],
   "source": [
    "def print_updated_inventory(inventory):\n",
    "    for item, quantity in inventory.items():\n",
    "        if item in customer_orders:\n",
    "            new_quantity = quantity - 1\n",
    "    print(f'{item}: {new_quantity}')\n",
    "\n",
    "print_updated_inventory(inventory)"
   ]
  }
 ],
 "metadata": {
  "kernelspec": {
   "display_name": "Python 3 (ipykernel)",
   "language": "python",
   "name": "python3"
  },
  "language_info": {
   "codemirror_mode": {
    "name": "ipython",
    "version": 3
   },
   "file_extension": ".py",
   "mimetype": "text/x-python",
   "name": "python",
   "nbconvert_exporter": "python",
   "pygments_lexer": "ipython3",
   "version": "3.11.4"
  },
  "toc": {
   "base_numbering": 1,
   "nav_menu": {},
   "number_sections": true,
   "sideBar": true,
   "skip_h1_title": false,
   "title_cell": "Table of Contents",
   "title_sidebar": "Contents",
   "toc_cell": true,
   "toc_position": {},
   "toc_section_display": true,
   "toc_window_display": true
  }
 },
 "nbformat": 4,
 "nbformat_minor": 5
}
